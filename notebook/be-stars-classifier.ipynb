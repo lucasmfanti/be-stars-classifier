{
  "cells": [
    {
      "attachments": {},
      "cell_type": "markdown",
      "metadata": {
        "id": "em9dJF4ufZRL"
      },
      "source": [
        "# Introduction"
      ]
    },
    {
      "cell_type": "code",
      "execution_count": null,
      "metadata": {
        "id": "I9vUxsSm08bg"
      },
      "outputs": [],
      "source": [
        "# importing the necessary libraries\n",
        "import numpy as np\n",
        "import pandas as pd\n",
        "from sklearn.model_selection import train_test_split\n",
        "from sklearn.preprocessing import StandardScaler\n",
        "from sklearn.linear_model import LogisticRegression\n",
        "from sklearn.svm import LinearSVC\n",
        "from sklearn.tree import DecisionTreeClassifier\n",
        "from sklearn.ensemble import RandomForestClassifier\n",
        "from sklearn.naive_bayes import GaussianNB\n",
        "from sklearn.neighbors import KNeighborsClassifier\n",
        "from sklearn.metrics import confusion_matrix\n",
        "from sklearn.metrics import accuracy_score, precision_score, recall_score, f1_score\n",
        "from sklearn.inspection import permutation_importance\n",
        "from sklearn.calibration import CalibratedClassifierCV\n",
        "import matplotlib.pyplot as plt"
      ]
    },
    {
      "attachments": {},
      "cell_type": "markdown",
      "metadata": {
        "id": "YFTMc_qJ4QSf"
      },
      "source": [
        "# Pre-processing"
      ]
    },
    {
      "cell_type": "code",
      "execution_count": null,
      "metadata": {
        "id": "Jf3OQYXB1ail"
      },
      "outputs": [],
      "source": [
        "# loading our databases\n",
        "BigCluster = np.load('cluster1_nodispersion.npz') # training\n",
        "SmallCluster = np.load('cluster0_nodispersion.npz') # synthetic test \n",
        "RealCluster = np.load('ngc330_be.npz') # real test"
      ]
    },
    {
      "cell_type": "code",
      "execution_count": null,
      "metadata": {
        "id": "YxgQ_1PY1mVX"
      },
      "outputs": [],
      "source": [
        "# loading the data into arrays, for each radiation filter, for both stars with and without disk\n",
        "U_Big_p = BigCluster['u_phot']\n",
        "G_Big_p = BigCluster['g_phot']\n",
        "R_Big_p = BigCluster['r_phot']\n",
        "I_Big_p = BigCluster['i_phot']\n",
        "Z_Big_p = BigCluster['z_phot']\n",
        "J378_Big_p = BigCluster['j378_phot']\n",
        "J395_Big_p = BigCluster['j395_phot']\n",
        "J410_Big_p = BigCluster['j410_phot']\n",
        "J430_Big_p = BigCluster['j430_phot']\n",
        "J515_Big_p = BigCluster['j515_phot']\n",
        "J660_Big_p = BigCluster['j660_phot']\n",
        "J861_Big_p = BigCluster['j861_phot']\n",
        "Bool_Big_p = np.zeros_like(U_Big_p) # array of zeros for stars without disk\n",
        "U_Big_d = BigCluster['u_disk']\n",
        "G_Big_d = BigCluster['g_disk']\n",
        "R_Big_d = BigCluster['r_disk']\n",
        "I_Big_d = BigCluster['i_disk']\n",
        "Z_Big_d = BigCluster['z_disk']\n",
        "J378_Big_d = BigCluster['j378_disk']\n",
        "J395_Big_d = BigCluster['j395_disk']\n",
        "J410_Big_d = BigCluster['j410_disk']\n",
        "J430_Big_d = BigCluster['j430_disk']\n",
        "J515_Big_d = BigCluster['j515_disk']\n",
        "J660_Big_d = BigCluster['j660_disk']\n",
        "J861_Big_d = BigCluster['j861_disk']\n",
        "Bool_Big_d = np.ones_like(U_Big_d) # array of ones for stars with disk"
      ]
    },
    {
      "cell_type": "code",
      "execution_count": null,
      "metadata": {
        "id": "tAjYCfdr2GkO"
      },
      "outputs": [],
      "source": [
        "# grouping a database for stars with and without disk\n",
        "Phot = np.column_stack((U_Big_p, G_Big_p, R_Big_p, I_Big_p, Z_Big_p, J378_Big_p, J395_Big_p, J410_Big_p, J430_Big_p, J515_Big_p, J660_Big_p, J861_Big_p, Bool_Big_p))\n",
        "Disk = np.column_stack((U_Big_d, G_Big_d, R_Big_d, I_Big_d, Z_Big_d, J378_Big_d, J395_Big_d, J410_Big_d, J430_Big_d, J515_Big_d, J660_Big_d, J861_Big_d, Bool_Big_d))"
      ]
    },
    {
      "cell_type": "code",
      "execution_count": null,
      "metadata": {
        "id": "1iYiZOzo2Pqo"
      },
      "outputs": [],
      "source": [
        "# Downsampling to balance the classes\n",
        "np.random.seed(0); DSIndex = np.random.choice(len(Phot), size = len(Disk), replace = False)\n",
        "PhotDownSampled = Phot[DSIndex]\n",
        "# putting together the training base\n",
        "Training_DB = np.concatenate((PhotDownSampled, Disk))"
      ]
    },
    {
      "cell_type": "code",
      "execution_count": null,
      "metadata": {
        "id": "MScq5Tab2eAg"
      },
      "outputs": [],
      "source": [
        "# splitting between features and targets\n",
        "X_Train = Training_DB[:, 0:12]\n",
        "Y_Train = Training_DB[:, 12]"
      ]
    },
    {
      "cell_type": "code",
      "execution_count": null,
      "metadata": {
        "id": "G2-KemF036X5"
      },
      "outputs": [],
      "source": [
        "# creating a database without downsampling\n",
        "Train_No_DownSample = np.concatenate((Phot, Disk))"
      ]
    },
    {
      "cell_type": "code",
      "execution_count": null,
      "metadata": {
        "id": "EmLuSD-14AX8"
      },
      "outputs": [],
      "source": [
        "# splitting between features and targets\n",
        "X_NoDS_Train = Train_No_DownSample[:, 0:12]\n",
        "Y_NoDS_Train = Train_No_DownSample[:, 12]"
      ]
    },
    {
      "cell_type": "code",
      "execution_count": null,
      "metadata": {
        "id": "uf7cOZg72nxK"
      },
      "outputs": [],
      "source": [
        "# repeating the procedure for the synthetic test database\n",
        "U_Test_p = SmallCluster['u_phot']\n",
        "G_Test_p = SmallCluster['g_phot']\n",
        "R_Test_p = SmallCluster['r_phot']\n",
        "I_Test_p = SmallCluster['i_phot']\n",
        "Z_Test_p = SmallCluster['z_phot']\n",
        "J378_Test_p = SmallCluster['j378_phot']\n",
        "J395_Test_p = SmallCluster['j395_phot']\n",
        "J410_Test_p = SmallCluster['j410_phot']\n",
        "J430_Test_p = SmallCluster['j430_phot']\n",
        "J515_Test_p = SmallCluster['j515_phot']\n",
        "J660_Test_p = SmallCluster['j660_phot']\n",
        "J861_Test_p = SmallCluster['j861_phot']\n",
        "Bool_Test_p = np.zeros_like(U_Test_p)\n",
        "U_Test_d = SmallCluster['u_disk']\n",
        "G_Test_d = SmallCluster['g_disk']\n",
        "R_Test_d = SmallCluster['r_disk']\n",
        "I_Test_d = SmallCluster['i_disk']\n",
        "Z_Test_d = SmallCluster['z_disk']\n",
        "J378_Test_d = SmallCluster['j378_disk']\n",
        "J395_Test_d = SmallCluster['j395_disk']\n",
        "J410_Test_d = SmallCluster['j410_disk']\n",
        "J430_Test_d = SmallCluster['j430_disk']\n",
        "J515_Test_d = SmallCluster['j515_disk']\n",
        "J660_Test_d = SmallCluster['j660_disk']\n",
        "J861_Test_d = SmallCluster['j861_disk']\n",
        "Bool_Test_d = np.ones_like(U_Test_d)"
      ]
    },
    {
      "cell_type": "code",
      "execution_count": null,
      "metadata": {
        "id": "NP_MPb-R2woB"
      },
      "outputs": [],
      "source": [
        "# no need to downsample our test database\n",
        "Test_Phot = np.column_stack((U_Test_p, G_Test_p, R_Test_p, I_Test_p, Z_Test_p, J378_Test_p, J395_Test_p, J410_Test_p, J430_Test_p, J515_Test_p, J660_Test_p, J861_Test_p, Bool_Test_p))\n",
        "Test_Disk = np.column_stack((U_Test_d, G_Test_d, R_Test_d, I_Test_d, Z_Test_d, J378_Test_d, J395_Test_d, J410_Test_d, J430_Test_d, J515_Test_d, J660_Test_d, J861_Test_d, Bool_Test_d))\n",
        "\n",
        "Test_DB = np.concatenate((Test_Phot, Test_Disk))"
      ]
    },
    {
      "cell_type": "code",
      "execution_count": null,
      "metadata": {
        "id": "unDkxWby24k9"
      },
      "outputs": [],
      "source": [
        "# splitting between features and targets for the synthetic database\n",
        "X_Test = Test_DB[:, 0:12]\n",
        "Y_Test = Test_DB[:, 12]"
      ]
    },
    {
      "cell_type": "code",
      "execution_count": null,
      "metadata": {
        "id": "H2lZ4HjJ3Obw"
      },
      "outputs": [],
      "source": [
        "# separating into arrays the database from the cluster NGC330\n",
        "U_Test_True = RealCluster['u']\n",
        "G_Test_True = RealCluster['g']\n",
        "R_Test_True = RealCluster['r']\n",
        "I_Test_True = RealCluster['i']\n",
        "Z_Test_True = RealCluster['z']\n",
        "J378_Test_True = RealCluster['j378']\n",
        "J395_Test_True = RealCluster['j395']\n",
        "J410_Test_True = RealCluster['j410']\n",
        "J430_Test_True = RealCluster['j430']\n",
        "J515_Test_True = RealCluster['j515']\n",
        "J660_Test_True = RealCluster['j660']\n",
        "J861_Test_True = RealCluster['j861']\n",
        "Y_Test_True = RealCluster['be']"
      ]
    },
    {
      "cell_type": "code",
      "execution_count": null,
      "metadata": {
        "id": "G_EpXzeb3WX6"
      },
      "outputs": [],
      "source": [
        "# stacking the whole real test database\n",
        "X_Test_True = np.column_stack((U_Test_True, G_Test_True, R_Test_True, I_Test_True, Z_Test_True, J378_Test_True, J395_Test_True, J410_Test_True, J430_Test_True, J515_Test_True, J660_Test_True, J861_Test_True))"
      ]
    },
    {
      "cell_type": "code",
      "execution_count": null,
      "metadata": {
        "id": "wz7PJxIQ3bJr"
      },
      "outputs": [],
      "source": [
        "# using sklearn to do the scaling of the databases\n",
        "# we don't scale targets, as it is a boolean variable\n",
        "\n",
        "ss_train = StandardScaler()\n",
        "X_Train_Scaled = ss_train.fit_transform(X_Train)\n",
        "\n",
        "ss_nods_train = StandardScaler()\n",
        "X_NoDS_Train_Scaled = ss_nods_train.fit_transform(X_NoDS_Train)\n",
        "\n",
        "ss_test = StandardScaler()\n",
        "X_Test_Scaled = ss_test.fit_transform(X_Test)\n",
        "\n",
        "ss_test_true = StandardScaler()\n",
        "X_Test_True_Scaled = ss_test_true.fit_transform(X_Test_True)"
      ]
    },
    {
      "attachments": {},
      "cell_type": "markdown",
      "metadata": {
        "id": "LzNHEELG4e5d"
      },
      "source": [
        "# Training the models"
      ]
    },
    {
      "cell_type": "code",
      "execution_count": null,
      "metadata": {
        "id": "jXDLoeIb4hmu"
      },
      "outputs": [],
      "source": [
        "# creating a dict with the different models we will be testing\n",
        "models = {}\n",
        "models['Logistic Regression'] = LogisticRegression()\n",
        "models['Support Vector Machines'] = LinearSVC()\n",
        "models['Decision Trees'] = DecisionTreeClassifier()\n",
        "models['Random Forest'] = RandomForestClassifier()\n",
        "models['Naive Bayes'] = GaussianNB()\n",
        "models['K-Nearest Neighbor'] = KNeighborsClassifier()"
      ]
    },
    {
      "cell_type": "code",
      "execution_count": null,
      "metadata": {
        "colab": {
          "base_uri": "https://localhost:8080/",
          "height": 272
        },
        "id": "Mm65-jQS5hLF",
        "outputId": "fcecc811-1509-45dc-8d30-870bc4fab561"
      },
      "outputs": [
        {
          "name": "stderr",
          "output_type": "stream",
          "text": [
            "/usr/local/lib/python3.7/dist-packages/sklearn/svm/_base.py:1208: ConvergenceWarning: Liblinear failed to converge, increase the number of iterations.\n",
            "  ConvergenceWarning,\n"
          ]
        },
        {
          "data": {
            "text/html": [
              "\n",
              "  <div id=\"df-f6ad8745-abfa-4e9a-b5e9-d4fc79905064\">\n",
              "    <div class=\"colab-df-container\">\n",
              "      <div>\n",
              "<style scoped>\n",
              "    .dataframe tbody tr th:only-of-type {\n",
              "        vertical-align: middle;\n",
              "    }\n",
              "\n",
              "    .dataframe tbody tr th {\n",
              "        vertical-align: top;\n",
              "    }\n",
              "\n",
              "    .dataframe thead th {\n",
              "        text-align: right;\n",
              "    }\n",
              "</style>\n",
              "<table border=\"1\" class=\"dataframe\">\n",
              "  <thead>\n",
              "    <tr style=\"text-align: right;\">\n",
              "      <th></th>\n",
              "      <th>Accuracy</th>\n",
              "      <th>Precision</th>\n",
              "      <th>Recall</th>\n",
              "      <th>F-Measure</th>\n",
              "    </tr>\n",
              "  </thead>\n",
              "  <tbody>\n",
              "    <tr>\n",
              "      <th>Logistic Regression</th>\n",
              "      <td>0.949361</td>\n",
              "      <td>1.000000</td>\n",
              "      <td>0.881975</td>\n",
              "      <td>0.937287</td>\n",
              "    </tr>\n",
              "    <tr>\n",
              "      <th>Support Vector Machines</th>\n",
              "      <td>1.000000</td>\n",
              "      <td>1.000000</td>\n",
              "      <td>1.000000</td>\n",
              "      <td>1.000000</td>\n",
              "    </tr>\n",
              "    <tr>\n",
              "      <th>Decision Trees</th>\n",
              "      <td>0.936726</td>\n",
              "      <td>0.952969</td>\n",
              "      <td>0.888015</td>\n",
              "      <td>0.919346</td>\n",
              "    </tr>\n",
              "    <tr>\n",
              "      <th>Random Forest</th>\n",
              "      <td>0.961898</td>\n",
              "      <td>0.995193</td>\n",
              "      <td>0.912122</td>\n",
              "      <td>0.951848</td>\n",
              "    </tr>\n",
              "    <tr>\n",
              "      <th>Naive Bayes</th>\n",
              "      <td>0.803540</td>\n",
              "      <td>0.978173</td>\n",
              "      <td>0.662939</td>\n",
              "      <td>0.790280</td>\n",
              "    </tr>\n",
              "    <tr>\n",
              "      <th>K-Nearest Neighbor</th>\n",
              "      <td>0.983235</td>\n",
              "      <td>0.994543</td>\n",
              "      <td>0.962409</td>\n",
              "      <td>0.978212</td>\n",
              "    </tr>\n",
              "  </tbody>\n",
              "</table>\n",
              "</div>\n",
              "      <button class=\"colab-df-convert\" onclick=\"convertToInteractive('df-f6ad8745-abfa-4e9a-b5e9-d4fc79905064')\"\n",
              "              title=\"Convert this dataframe to an interactive table.\"\n",
              "              style=\"display:none;\">\n",
              "        \n",
              "  <svg xmlns=\"http://www.w3.org/2000/svg\" height=\"24px\"viewBox=\"0 0 24 24\"\n",
              "       width=\"24px\">\n",
              "    <path d=\"M0 0h24v24H0V0z\" fill=\"none\"/>\n",
              "    <path d=\"M18.56 5.44l.94 2.06.94-2.06 2.06-.94-2.06-.94-.94-2.06-.94 2.06-2.06.94zm-11 1L8.5 8.5l.94-2.06 2.06-.94-2.06-.94L8.5 2.5l-.94 2.06-2.06.94zm10 10l.94 2.06.94-2.06 2.06-.94-2.06-.94-.94-2.06-.94 2.06-2.06.94z\"/><path d=\"M17.41 7.96l-1.37-1.37c-.4-.4-.92-.59-1.43-.59-.52 0-1.04.2-1.43.59L10.3 9.45l-7.72 7.72c-.78.78-.78 2.05 0 2.83L4 21.41c.39.39.9.59 1.41.59.51 0 1.02-.2 1.41-.59l7.78-7.78 2.81-2.81c.8-.78.8-2.07 0-2.86zM5.41 20L4 18.59l7.72-7.72 1.47 1.35L5.41 20z\"/>\n",
              "  </svg>\n",
              "      </button>\n",
              "      \n",
              "  <style>\n",
              "    .colab-df-container {\n",
              "      display:flex;\n",
              "      flex-wrap:wrap;\n",
              "      gap: 12px;\n",
              "    }\n",
              "\n",
              "    .colab-df-convert {\n",
              "      background-color: #E8F0FE;\n",
              "      border: none;\n",
              "      border-radius: 50%;\n",
              "      cursor: pointer;\n",
              "      display: none;\n",
              "      fill: #1967D2;\n",
              "      height: 32px;\n",
              "      padding: 0 0 0 0;\n",
              "      width: 32px;\n",
              "    }\n",
              "\n",
              "    .colab-df-convert:hover {\n",
              "      background-color: #E2EBFA;\n",
              "      box-shadow: 0px 1px 2px rgba(60, 64, 67, 0.3), 0px 1px 3px 1px rgba(60, 64, 67, 0.15);\n",
              "      fill: #174EA6;\n",
              "    }\n",
              "\n",
              "    [theme=dark] .colab-df-convert {\n",
              "      background-color: #3B4455;\n",
              "      fill: #D2E3FC;\n",
              "    }\n",
              "\n",
              "    [theme=dark] .colab-df-convert:hover {\n",
              "      background-color: #434B5C;\n",
              "      box-shadow: 0px 1px 3px 1px rgba(0, 0, 0, 0.15);\n",
              "      filter: drop-shadow(0px 1px 2px rgba(0, 0, 0, 0.3));\n",
              "      fill: #FFFFFF;\n",
              "    }\n",
              "  </style>\n",
              "\n",
              "      <script>\n",
              "        const buttonEl =\n",
              "          document.querySelector('#df-f6ad8745-abfa-4e9a-b5e9-d4fc79905064 button.colab-df-convert');\n",
              "        buttonEl.style.display =\n",
              "          google.colab.kernel.accessAllowed ? 'block' : 'none';\n",
              "\n",
              "        async function convertToInteractive(key) {\n",
              "          const element = document.querySelector('#df-f6ad8745-abfa-4e9a-b5e9-d4fc79905064');\n",
              "          const dataTable =\n",
              "            await google.colab.kernel.invokeFunction('convertToInteractive',\n",
              "                                                     [key], {});\n",
              "          if (!dataTable) return;\n",
              "\n",
              "          const docLinkHtml = 'Like what you see? Visit the ' +\n",
              "            '<a target=\"_blank\" href=https://colab.research.google.com/notebooks/data_table.ipynb>data table notebook</a>'\n",
              "            + ' to learn more about interactive tables.';\n",
              "          element.innerHTML = '';\n",
              "          dataTable['output_type'] = 'display_data';\n",
              "          await google.colab.output.renderOutput(dataTable, element);\n",
              "          const docLink = document.createElement('div');\n",
              "          docLink.innerHTML = docLinkHtml;\n",
              "          element.appendChild(docLink);\n",
              "        }\n",
              "      </script>\n",
              "    </div>\n",
              "  </div>\n",
              "  "
            ],
            "text/plain": [
              "                         Accuracy  Precision    Recall  F-Measure\n",
              "Logistic Regression      0.949361   1.000000  0.881975   0.937287\n",
              "Support Vector Machines  1.000000   1.000000  1.000000   1.000000\n",
              "Decision Trees           0.936726   0.952969  0.888015   0.919346\n",
              "Random Forest            0.961898   0.995193  0.912122   0.951848\n",
              "Naive Bayes              0.803540   0.978173  0.662939   0.790280\n",
              "K-Nearest Neighbor       0.983235   0.994543  0.962409   0.978212"
            ]
          },
          "execution_count": 16,
          "metadata": {},
          "output_type": "execute_result"
        }
      ],
      "source": [
        "# training the model, with downsampled database, testing on the synthetic cluster\n",
        "\n",
        "accuracy, precision, recall, fmeasure = {}, {}, {}, {}\n",
        "\n",
        "for key in models.keys():\n",
        "    \n",
        "    # model training\n",
        "    models[key].fit(X_Train_Scaled, Y_Train)\n",
        "    \n",
        "    # generating prediction\n",
        "    predictions = models[key].predict(X_Test_Scaled)\n",
        "    \n",
        "    # calculating metrics\n",
        "    accuracy[key] = accuracy_score(predictions, Y_Test)\n",
        "    precision[key] = precision_score(predictions, Y_Test)\n",
        "    recall[key] = recall_score(predictions, Y_Test)\n",
        "    fmeasure[key] = f1_score(predictions, Y_Test)\n",
        "\n",
        "# visualizing the metrics for this test\n",
        "df_model = pd.DataFrame(index=models.keys(), columns=['Accuracy', 'Precision', 'Recall', 'F-Measure'])\n",
        "df_model['Accuracy'] = accuracy.values()\n",
        "df_model['Precision'] = precision.values()\n",
        "df_model['Recall'] = recall.values()\n",
        "df_model['F-Measure'] = fmeasure.values()\n",
        "df_model"
      ]
    },
    {
      "cell_type": "code",
      "execution_count": null,
      "metadata": {
        "colab": {
          "base_uri": "https://localhost:8080/",
          "height": 272
        },
        "id": "veultlSq5gwn",
        "outputId": "c418678a-848f-4d24-b257-0408cdf591d3"
      },
      "outputs": [
        {
          "name": "stderr",
          "output_type": "stream",
          "text": [
            "/usr/local/lib/python3.7/dist-packages/sklearn/svm/_base.py:1208: ConvergenceWarning: Liblinear failed to converge, increase the number of iterations.\n",
            "  ConvergenceWarning,\n"
          ]
        },
        {
          "data": {
            "text/html": [
              "\n",
              "  <div id=\"df-70c82f5e-504d-4842-8aa5-4f7829390007\">\n",
              "    <div class=\"colab-df-container\">\n",
              "      <div>\n",
              "<style scoped>\n",
              "    .dataframe tbody tr th:only-of-type {\n",
              "        vertical-align: middle;\n",
              "    }\n",
              "\n",
              "    .dataframe tbody tr th {\n",
              "        vertical-align: top;\n",
              "    }\n",
              "\n",
              "    .dataframe thead th {\n",
              "        text-align: right;\n",
              "    }\n",
              "</style>\n",
              "<table border=\"1\" class=\"dataframe\">\n",
              "  <thead>\n",
              "    <tr style=\"text-align: right;\">\n",
              "      <th></th>\n",
              "      <th>Accuracy</th>\n",
              "      <th>Precision</th>\n",
              "      <th>Recall</th>\n",
              "      <th>F-Measure</th>\n",
              "    </tr>\n",
              "  </thead>\n",
              "  <tbody>\n",
              "    <tr>\n",
              "      <th>Logistic Regression</th>\n",
              "      <td>0.999902</td>\n",
              "      <td>1.000000</td>\n",
              "      <td>0.999740</td>\n",
              "      <td>0.999870</td>\n",
              "    </tr>\n",
              "    <tr>\n",
              "      <th>Support Vector Machines</th>\n",
              "      <td>1.000000</td>\n",
              "      <td>1.000000</td>\n",
              "      <td>1.000000</td>\n",
              "      <td>1.000000</td>\n",
              "    </tr>\n",
              "    <tr>\n",
              "      <th>Decision Trees</th>\n",
              "      <td>0.982793</td>\n",
              "      <td>0.979992</td>\n",
              "      <td>0.974674</td>\n",
              "      <td>0.977326</td>\n",
              "    </tr>\n",
              "    <tr>\n",
              "      <th>Random Forest</th>\n",
              "      <td>0.996853</td>\n",
              "      <td>0.993504</td>\n",
              "      <td>0.998173</td>\n",
              "      <td>0.995833</td>\n",
              "    </tr>\n",
              "    <tr>\n",
              "      <th>Naive Bayes</th>\n",
              "      <td>0.800541</td>\n",
              "      <td>0.893855</td>\n",
              "      <td>0.679842</td>\n",
              "      <td>0.772296</td>\n",
              "    </tr>\n",
              "    <tr>\n",
              "      <th>K-Nearest Neighbor</th>\n",
              "      <td>0.997640</td>\n",
              "      <td>0.994933</td>\n",
              "      <td>0.998826</td>\n",
              "      <td>0.996876</td>\n",
              "    </tr>\n",
              "  </tbody>\n",
              "</table>\n",
              "</div>\n",
              "      <button class=\"colab-df-convert\" onclick=\"convertToInteractive('df-70c82f5e-504d-4842-8aa5-4f7829390007')\"\n",
              "              title=\"Convert this dataframe to an interactive table.\"\n",
              "              style=\"display:none;\">\n",
              "        \n",
              "  <svg xmlns=\"http://www.w3.org/2000/svg\" height=\"24px\"viewBox=\"0 0 24 24\"\n",
              "       width=\"24px\">\n",
              "    <path d=\"M0 0h24v24H0V0z\" fill=\"none\"/>\n",
              "    <path d=\"M18.56 5.44l.94 2.06.94-2.06 2.06-.94-2.06-.94-.94-2.06-.94 2.06-2.06.94zm-11 1L8.5 8.5l.94-2.06 2.06-.94-2.06-.94L8.5 2.5l-.94 2.06-2.06.94zm10 10l.94 2.06.94-2.06 2.06-.94-2.06-.94-.94-2.06-.94 2.06-2.06.94z\"/><path d=\"M17.41 7.96l-1.37-1.37c-.4-.4-.92-.59-1.43-.59-.52 0-1.04.2-1.43.59L10.3 9.45l-7.72 7.72c-.78.78-.78 2.05 0 2.83L4 21.41c.39.39.9.59 1.41.59.51 0 1.02-.2 1.41-.59l7.78-7.78 2.81-2.81c.8-.78.8-2.07 0-2.86zM5.41 20L4 18.59l7.72-7.72 1.47 1.35L5.41 20z\"/>\n",
              "  </svg>\n",
              "      </button>\n",
              "      \n",
              "  <style>\n",
              "    .colab-df-container {\n",
              "      display:flex;\n",
              "      flex-wrap:wrap;\n",
              "      gap: 12px;\n",
              "    }\n",
              "\n",
              "    .colab-df-convert {\n",
              "      background-color: #E8F0FE;\n",
              "      border: none;\n",
              "      border-radius: 50%;\n",
              "      cursor: pointer;\n",
              "      display: none;\n",
              "      fill: #1967D2;\n",
              "      height: 32px;\n",
              "      padding: 0 0 0 0;\n",
              "      width: 32px;\n",
              "    }\n",
              "\n",
              "    .colab-df-convert:hover {\n",
              "      background-color: #E2EBFA;\n",
              "      box-shadow: 0px 1px 2px rgba(60, 64, 67, 0.3), 0px 1px 3px 1px rgba(60, 64, 67, 0.15);\n",
              "      fill: #174EA6;\n",
              "    }\n",
              "\n",
              "    [theme=dark] .colab-df-convert {\n",
              "      background-color: #3B4455;\n",
              "      fill: #D2E3FC;\n",
              "    }\n",
              "\n",
              "    [theme=dark] .colab-df-convert:hover {\n",
              "      background-color: #434B5C;\n",
              "      box-shadow: 0px 1px 3px 1px rgba(0, 0, 0, 0.15);\n",
              "      filter: drop-shadow(0px 1px 2px rgba(0, 0, 0, 0.3));\n",
              "      fill: #FFFFFF;\n",
              "    }\n",
              "  </style>\n",
              "\n",
              "      <script>\n",
              "        const buttonEl =\n",
              "          document.querySelector('#df-70c82f5e-504d-4842-8aa5-4f7829390007 button.colab-df-convert');\n",
              "        buttonEl.style.display =\n",
              "          google.colab.kernel.accessAllowed ? 'block' : 'none';\n",
              "\n",
              "        async function convertToInteractive(key) {\n",
              "          const element = document.querySelector('#df-70c82f5e-504d-4842-8aa5-4f7829390007');\n",
              "          const dataTable =\n",
              "            await google.colab.kernel.invokeFunction('convertToInteractive',\n",
              "                                                     [key], {});\n",
              "          if (!dataTable) return;\n",
              "\n",
              "          const docLinkHtml = 'Like what you see? Visit the ' +\n",
              "            '<a target=\"_blank\" href=https://colab.research.google.com/notebooks/data_table.ipynb>data table notebook</a>'\n",
              "            + ' to learn more about interactive tables.';\n",
              "          element.innerHTML = '';\n",
              "          dataTable['output_type'] = 'display_data';\n",
              "          await google.colab.output.renderOutput(dataTable, element);\n",
              "          const docLink = document.createElement('div');\n",
              "          docLink.innerHTML = docLinkHtml;\n",
              "          element.appendChild(docLink);\n",
              "        }\n",
              "      </script>\n",
              "    </div>\n",
              "  </div>\n",
              "  "
            ],
            "text/plain": [
              "                         Accuracy  Precision    Recall  F-Measure\n",
              "Logistic Regression      0.999902   1.000000  0.999740   0.999870\n",
              "Support Vector Machines  1.000000   1.000000  1.000000   1.000000\n",
              "Decision Trees           0.982793   0.979992  0.974674   0.977326\n",
              "Random Forest            0.996853   0.993504  0.998173   0.995833\n",
              "Naive Bayes              0.800541   0.893855  0.679842   0.772296\n",
              "K-Nearest Neighbor       0.997640   0.994933  0.998826   0.996876"
            ]
          },
          "execution_count": 17,
          "metadata": {},
          "output_type": "execute_result"
        }
      ],
      "source": [
        "# training the model, without downsampled database, testing on the synthetic cluster\n",
        "\n",
        "accuracy, precision, recall, fmeasure = {}, {}, {}, {}\n",
        "\n",
        "for key in models.keys():\n",
        "    \n",
        "    # model training\n",
        "    models[key].fit(X_NoDS_Train_Scaled, Y_NoDS_Train)\n",
        "    \n",
        "    # generating prediction\n",
        "    predictions = models[key].predict(X_Test_Scaled)\n",
        "    \n",
        "    # calculating metrics\n",
        "    accuracy[key] = accuracy_score(predictions, Y_Test)\n",
        "    precision[key] = precision_score(predictions, Y_Test)\n",
        "    recall[key] = recall_score(predictions, Y_Test)\n",
        "    fmeasure[key] = f1_score(predictions, Y_Test)\n",
        "\n",
        "# visualizing the metrics for this test\n",
        "df_model = pd.DataFrame(index=models.keys(), columns=['Accuracy', 'Precision', 'Recall', 'F-Measure'])\n",
        "df_model['Accuracy'] = accuracy.values()\n",
        "df_model['Precision'] = precision.values()\n",
        "df_model['Recall'] = recall.values()\n",
        "df_model['F-Measure'] = fmeasure.values()\n",
        "df_model"
      ]
    },
    {
      "cell_type": "code",
      "execution_count": null,
      "metadata": {
        "colab": {
          "base_uri": "https://localhost:8080/",
          "height": 272
        },
        "id": "XvDyG88C5F91",
        "outputId": "738685e6-23af-4252-9d5b-5eeb474dc1cf"
      },
      "outputs": [
        {
          "name": "stderr",
          "output_type": "stream",
          "text": [
            "/usr/local/lib/python3.7/dist-packages/sklearn/svm/_base.py:1208: ConvergenceWarning: Liblinear failed to converge, increase the number of iterations.\n",
            "  ConvergenceWarning,\n"
          ]
        },
        {
          "data": {
            "text/html": [
              "\n",
              "  <div id=\"df-332ad3db-fb70-4a9a-b80d-2498bd4ef957\">\n",
              "    <div class=\"colab-df-container\">\n",
              "      <div>\n",
              "<style scoped>\n",
              "    .dataframe tbody tr th:only-of-type {\n",
              "        vertical-align: middle;\n",
              "    }\n",
              "\n",
              "    .dataframe tbody tr th {\n",
              "        vertical-align: top;\n",
              "    }\n",
              "\n",
              "    .dataframe thead th {\n",
              "        text-align: right;\n",
              "    }\n",
              "</style>\n",
              "<table border=\"1\" class=\"dataframe\">\n",
              "  <thead>\n",
              "    <tr style=\"text-align: right;\">\n",
              "      <th></th>\n",
              "      <th>Accuracy</th>\n",
              "      <th>Precision</th>\n",
              "      <th>Recall</th>\n",
              "      <th>F-Measure</th>\n",
              "    </tr>\n",
              "  </thead>\n",
              "  <tbody>\n",
              "    <tr>\n",
              "      <th>Logistic Regression</th>\n",
              "      <td>0.522225</td>\n",
              "      <td>0.921569</td>\n",
              "      <td>0.013580</td>\n",
              "      <td>0.026765</td>\n",
              "    </tr>\n",
              "    <tr>\n",
              "      <th>Support Vector Machines</th>\n",
              "      <td>0.503215</td>\n",
              "      <td>0.921569</td>\n",
              "      <td>0.013066</td>\n",
              "      <td>0.025768</td>\n",
              "    </tr>\n",
              "    <tr>\n",
              "      <th>Decision Trees</th>\n",
              "      <td>0.930668</td>\n",
              "      <td>0.137255</td>\n",
              "      <td>0.015251</td>\n",
              "      <td>0.027451</td>\n",
              "    </tr>\n",
              "    <tr>\n",
              "      <th>Random Forest</th>\n",
              "      <td>0.939894</td>\n",
              "      <td>0.019608</td>\n",
              "      <td>0.002625</td>\n",
              "      <td>0.004630</td>\n",
              "    </tr>\n",
              "    <tr>\n",
              "      <th>Naive Bayes</th>\n",
              "      <td>0.618675</td>\n",
              "      <td>0.784314</td>\n",
              "      <td>0.014509</td>\n",
              "      <td>0.028490</td>\n",
              "    </tr>\n",
              "    <tr>\n",
              "      <th>K-Nearest Neighbor</th>\n",
              "      <td>0.890271</td>\n",
              "      <td>0.078431</td>\n",
              "      <td>0.005391</td>\n",
              "      <td>0.010088</td>\n",
              "    </tr>\n",
              "  </tbody>\n",
              "</table>\n",
              "</div>\n",
              "      <button class=\"colab-df-convert\" onclick=\"convertToInteractive('df-332ad3db-fb70-4a9a-b80d-2498bd4ef957')\"\n",
              "              title=\"Convert this dataframe to an interactive table.\"\n",
              "              style=\"display:none;\">\n",
              "        \n",
              "  <svg xmlns=\"http://www.w3.org/2000/svg\" height=\"24px\"viewBox=\"0 0 24 24\"\n",
              "       width=\"24px\">\n",
              "    <path d=\"M0 0h24v24H0V0z\" fill=\"none\"/>\n",
              "    <path d=\"M18.56 5.44l.94 2.06.94-2.06 2.06-.94-2.06-.94-.94-2.06-.94 2.06-2.06.94zm-11 1L8.5 8.5l.94-2.06 2.06-.94-2.06-.94L8.5 2.5l-.94 2.06-2.06.94zm10 10l.94 2.06.94-2.06 2.06-.94-2.06-.94-.94-2.06-.94 2.06-2.06.94z\"/><path d=\"M17.41 7.96l-1.37-1.37c-.4-.4-.92-.59-1.43-.59-.52 0-1.04.2-1.43.59L10.3 9.45l-7.72 7.72c-.78.78-.78 2.05 0 2.83L4 21.41c.39.39.9.59 1.41.59.51 0 1.02-.2 1.41-.59l7.78-7.78 2.81-2.81c.8-.78.8-2.07 0-2.86zM5.41 20L4 18.59l7.72-7.72 1.47 1.35L5.41 20z\"/>\n",
              "  </svg>\n",
              "      </button>\n",
              "      \n",
              "  <style>\n",
              "    .colab-df-container {\n",
              "      display:flex;\n",
              "      flex-wrap:wrap;\n",
              "      gap: 12px;\n",
              "    }\n",
              "\n",
              "    .colab-df-convert {\n",
              "      background-color: #E8F0FE;\n",
              "      border: none;\n",
              "      border-radius: 50%;\n",
              "      cursor: pointer;\n",
              "      display: none;\n",
              "      fill: #1967D2;\n",
              "      height: 32px;\n",
              "      padding: 0 0 0 0;\n",
              "      width: 32px;\n",
              "    }\n",
              "\n",
              "    .colab-df-convert:hover {\n",
              "      background-color: #E2EBFA;\n",
              "      box-shadow: 0px 1px 2px rgba(60, 64, 67, 0.3), 0px 1px 3px 1px rgba(60, 64, 67, 0.15);\n",
              "      fill: #174EA6;\n",
              "    }\n",
              "\n",
              "    [theme=dark] .colab-df-convert {\n",
              "      background-color: #3B4455;\n",
              "      fill: #D2E3FC;\n",
              "    }\n",
              "\n",
              "    [theme=dark] .colab-df-convert:hover {\n",
              "      background-color: #434B5C;\n",
              "      box-shadow: 0px 1px 3px 1px rgba(0, 0, 0, 0.15);\n",
              "      filter: drop-shadow(0px 1px 2px rgba(0, 0, 0, 0.3));\n",
              "      fill: #FFFFFF;\n",
              "    }\n",
              "  </style>\n",
              "\n",
              "      <script>\n",
              "        const buttonEl =\n",
              "          document.querySelector('#df-332ad3db-fb70-4a9a-b80d-2498bd4ef957 button.colab-df-convert');\n",
              "        buttonEl.style.display =\n",
              "          google.colab.kernel.accessAllowed ? 'block' : 'none';\n",
              "\n",
              "        async function convertToInteractive(key) {\n",
              "          const element = document.querySelector('#df-332ad3db-fb70-4a9a-b80d-2498bd4ef957');\n",
              "          const dataTable =\n",
              "            await google.colab.kernel.invokeFunction('convertToInteractive',\n",
              "                                                     [key], {});\n",
              "          if (!dataTable) return;\n",
              "\n",
              "          const docLinkHtml = 'Like what you see? Visit the ' +\n",
              "            '<a target=\"_blank\" href=https://colab.research.google.com/notebooks/data_table.ipynb>data table notebook</a>'\n",
              "            + ' to learn more about interactive tables.';\n",
              "          element.innerHTML = '';\n",
              "          dataTable['output_type'] = 'display_data';\n",
              "          await google.colab.output.renderOutput(dataTable, element);\n",
              "          const docLink = document.createElement('div');\n",
              "          docLink.innerHTML = docLinkHtml;\n",
              "          element.appendChild(docLink);\n",
              "        }\n",
              "      </script>\n",
              "    </div>\n",
              "  </div>\n",
              "  "
            ],
            "text/plain": [
              "                         Accuracy  Precision    Recall  F-Measure\n",
              "Logistic Regression      0.522225   0.921569  0.013580   0.026765\n",
              "Support Vector Machines  0.503215   0.921569  0.013066   0.025768\n",
              "Decision Trees           0.930668   0.137255  0.015251   0.027451\n",
              "Random Forest            0.939894   0.019608  0.002625   0.004630\n",
              "Naive Bayes              0.618675   0.784314  0.014509   0.028490\n",
              "K-Nearest Neighbor       0.890271   0.078431  0.005391   0.010088"
            ]
          },
          "execution_count": 18,
          "metadata": {},
          "output_type": "execute_result"
        }
      ],
      "source": [
        "# training the model, with downsampled database, testing on the real cluster\n",
        "\n",
        "accuracy, precision, recall, fmeasure = {}, {}, {}, {}\n",
        "\n",
        "for key in models.keys():\n",
        "    \n",
        "    # model training\n",
        "    models[key].fit(X_Train_Scaled, Y_Train)\n",
        "    \n",
        "    # generating prediction\n",
        "    predictions = models[key].predict(X_Test_True_Scaled)\n",
        "    \n",
        "    # calculating metrics\n",
        "    accuracy[key] = accuracy_score(predictions, Y_Test_True)\n",
        "    precision[key] = precision_score(predictions, Y_Test_True)\n",
        "    recall[key] = recall_score(predictions, Y_Test_True)\n",
        "    fmeasure[key] = f1_score(predictions, Y_Test_True)\n",
        "\n",
        "# visualizing the metrics for this test\n",
        "df_model = pd.DataFrame(index=models.keys(), columns=['Accuracy', 'Precision', 'Recall', 'F-Measure'])\n",
        "df_model['Accuracy'] = accuracy.values()\n",
        "df_model['Precision'] = precision.values()\n",
        "df_model['Recall'] = recall.values()\n",
        "df_model['F-Measure'] = fmeasure.values()\n",
        "df_model"
      ]
    },
    {
      "cell_type": "code",
      "execution_count": null,
      "metadata": {
        "colab": {
          "base_uri": "https://localhost:8080/",
          "height": 238
        },
        "id": "AKwDLH5A5hZ8",
        "outputId": "be3c8028-7300-4d83-82f2-467b29198e2f"
      },
      "outputs": [
        {
          "data": {
            "text/html": [
              "\n",
              "  <div id=\"df-e54a82cf-992a-432a-b0dd-0834882615b7\">\n",
              "    <div class=\"colab-df-container\">\n",
              "      <div>\n",
              "<style scoped>\n",
              "    .dataframe tbody tr th:only-of-type {\n",
              "        vertical-align: middle;\n",
              "    }\n",
              "\n",
              "    .dataframe tbody tr th {\n",
              "        vertical-align: top;\n",
              "    }\n",
              "\n",
              "    .dataframe thead th {\n",
              "        text-align: right;\n",
              "    }\n",
              "</style>\n",
              "<table border=\"1\" class=\"dataframe\">\n",
              "  <thead>\n",
              "    <tr style=\"text-align: right;\">\n",
              "      <th></th>\n",
              "      <th>Accuracy</th>\n",
              "      <th>Precision</th>\n",
              "      <th>Recall</th>\n",
              "      <th>F-Measure</th>\n",
              "    </tr>\n",
              "  </thead>\n",
              "  <tbody>\n",
              "    <tr>\n",
              "      <th>Logistic Regression</th>\n",
              "      <td>0.644674</td>\n",
              "      <td>0.843137</td>\n",
              "      <td>0.016686</td>\n",
              "      <td>0.032725</td>\n",
              "    </tr>\n",
              "    <tr>\n",
              "      <th>Support Vector Machines</th>\n",
              "      <td>0.560665</td>\n",
              "      <td>0.921569</td>\n",
              "      <td>0.014752</td>\n",
              "      <td>0.029039</td>\n",
              "    </tr>\n",
              "    <tr>\n",
              "      <th>Decision Trees</th>\n",
              "      <td>0.930668</td>\n",
              "      <td>0.098039</td>\n",
              "      <td>0.010989</td>\n",
              "      <td>0.019763</td>\n",
              "    </tr>\n",
              "    <tr>\n",
              "      <th>Random Forest</th>\n",
              "      <td>0.950937</td>\n",
              "      <td>0.039216</td>\n",
              "      <td>0.006579</td>\n",
              "      <td>0.011268</td>\n",
              "    </tr>\n",
              "    <tr>\n",
              "      <th>Naive Bayes</th>\n",
              "      <td>0.678502</td>\n",
              "      <td>0.803922</td>\n",
              "      <td>0.017589</td>\n",
              "      <td>0.034425</td>\n",
              "    </tr>\n",
              "    <tr>\n",
              "      <th>K-Nearest Neighbor</th>\n",
              "      <td>0.906206</td>\n",
              "      <td>0.058824</td>\n",
              "      <td>0.004792</td>\n",
              "      <td>0.008863</td>\n",
              "    </tr>\n",
              "  </tbody>\n",
              "</table>\n",
              "</div>\n",
              "      <button class=\"colab-df-convert\" onclick=\"convertToInteractive('df-e54a82cf-992a-432a-b0dd-0834882615b7')\"\n",
              "              title=\"Convert this dataframe to an interactive table.\"\n",
              "              style=\"display:none;\">\n",
              "        \n",
              "  <svg xmlns=\"http://www.w3.org/2000/svg\" height=\"24px\"viewBox=\"0 0 24 24\"\n",
              "       width=\"24px\">\n",
              "    <path d=\"M0 0h24v24H0V0z\" fill=\"none\"/>\n",
              "    <path d=\"M18.56 5.44l.94 2.06.94-2.06 2.06-.94-2.06-.94-.94-2.06-.94 2.06-2.06.94zm-11 1L8.5 8.5l.94-2.06 2.06-.94-2.06-.94L8.5 2.5l-.94 2.06-2.06.94zm10 10l.94 2.06.94-2.06 2.06-.94-2.06-.94-.94-2.06-.94 2.06-2.06.94z\"/><path d=\"M17.41 7.96l-1.37-1.37c-.4-.4-.92-.59-1.43-.59-.52 0-1.04.2-1.43.59L10.3 9.45l-7.72 7.72c-.78.78-.78 2.05 0 2.83L4 21.41c.39.39.9.59 1.41.59.51 0 1.02-.2 1.41-.59l7.78-7.78 2.81-2.81c.8-.78.8-2.07 0-2.86zM5.41 20L4 18.59l7.72-7.72 1.47 1.35L5.41 20z\"/>\n",
              "  </svg>\n",
              "      </button>\n",
              "      \n",
              "  <style>\n",
              "    .colab-df-container {\n",
              "      display:flex;\n",
              "      flex-wrap:wrap;\n",
              "      gap: 12px;\n",
              "    }\n",
              "\n",
              "    .colab-df-convert {\n",
              "      background-color: #E8F0FE;\n",
              "      border: none;\n",
              "      border-radius: 50%;\n",
              "      cursor: pointer;\n",
              "      display: none;\n",
              "      fill: #1967D2;\n",
              "      height: 32px;\n",
              "      padding: 0 0 0 0;\n",
              "      width: 32px;\n",
              "    }\n",
              "\n",
              "    .colab-df-convert:hover {\n",
              "      background-color: #E2EBFA;\n",
              "      box-shadow: 0px 1px 2px rgba(60, 64, 67, 0.3), 0px 1px 3px 1px rgba(60, 64, 67, 0.15);\n",
              "      fill: #174EA6;\n",
              "    }\n",
              "\n",
              "    [theme=dark] .colab-df-convert {\n",
              "      background-color: #3B4455;\n",
              "      fill: #D2E3FC;\n",
              "    }\n",
              "\n",
              "    [theme=dark] .colab-df-convert:hover {\n",
              "      background-color: #434B5C;\n",
              "      box-shadow: 0px 1px 3px 1px rgba(0, 0, 0, 0.15);\n",
              "      filter: drop-shadow(0px 1px 2px rgba(0, 0, 0, 0.3));\n",
              "      fill: #FFFFFF;\n",
              "    }\n",
              "  </style>\n",
              "\n",
              "      <script>\n",
              "        const buttonEl =\n",
              "          document.querySelector('#df-e54a82cf-992a-432a-b0dd-0834882615b7 button.colab-df-convert');\n",
              "        buttonEl.style.display =\n",
              "          google.colab.kernel.accessAllowed ? 'block' : 'none';\n",
              "\n",
              "        async function convertToInteractive(key) {\n",
              "          const element = document.querySelector('#df-e54a82cf-992a-432a-b0dd-0834882615b7');\n",
              "          const dataTable =\n",
              "            await google.colab.kernel.invokeFunction('convertToInteractive',\n",
              "                                                     [key], {});\n",
              "          if (!dataTable) return;\n",
              "\n",
              "          const docLinkHtml = 'Like what you see? Visit the ' +\n",
              "            '<a target=\"_blank\" href=https://colab.research.google.com/notebooks/data_table.ipynb>data table notebook</a>'\n",
              "            + ' to learn more about interactive tables.';\n",
              "          element.innerHTML = '';\n",
              "          dataTable['output_type'] = 'display_data';\n",
              "          await google.colab.output.renderOutput(dataTable, element);\n",
              "          const docLink = document.createElement('div');\n",
              "          docLink.innerHTML = docLinkHtml;\n",
              "          element.appendChild(docLink);\n",
              "        }\n",
              "      </script>\n",
              "    </div>\n",
              "  </div>\n",
              "  "
            ],
            "text/plain": [
              "                         Accuracy  Precision    Recall  F-Measure\n",
              "Logistic Regression      0.644674   0.843137  0.016686   0.032725\n",
              "Support Vector Machines  0.560665   0.921569  0.014752   0.029039\n",
              "Decision Trees           0.930668   0.098039  0.010989   0.019763\n",
              "Random Forest            0.950937   0.039216  0.006579   0.011268\n",
              "Naive Bayes              0.678502   0.803922  0.017589   0.034425\n",
              "K-Nearest Neighbor       0.906206   0.058824  0.004792   0.008863"
            ]
          },
          "execution_count": 19,
          "metadata": {},
          "output_type": "execute_result"
        }
      ],
      "source": [
        "# training the model, without downsampled database, testing on the real cluster\n",
        "\n",
        "accuracy, precision, recall, fmeasure = {}, {}, {}, {}\n",
        "\n",
        "for key in models.keys():\n",
        "    \n",
        "    # model training\n",
        "    models[key].fit(X_NoDS_Train_Scaled, Y_NoDS_Train)\n",
        "    \n",
        "    # generating prediction\n",
        "    predictions = models[key].predict(X_Test_True_Scaled)\n",
        "    \n",
        "    # calculating metrics\n",
        "    accuracy[key] = accuracy_score(predictions, Y_Test_True)\n",
        "    precision[key] = precision_score(predictions, Y_Test_True)\n",
        "    recall[key] = recall_score(predictions, Y_Test_True)\n",
        "    fmeasure[key] = f1_score(predictions, Y_Test_True)\n",
        "\n",
        "# visualizing the metrics for this test\n",
        "df_model = pd.DataFrame(index=models.keys(), columns=['Accuracy', 'Precision', 'Recall', 'F-Measure'])\n",
        "df_model['Accuracy'] = accuracy.values()\n",
        "df_model['Precision'] = precision.values()\n",
        "df_model['Recall'] = recall.values()\n",
        "df_model['F-Measure'] = fmeasure.values()\n",
        "df_model"
      ]
    },
    {
      "attachments": {},
      "cell_type": "markdown",
      "metadata": {
        "id": "gTStqrBw9bB1"
      },
      "source": [
        "# Analysis of the models"
      ]
    },
    {
      "cell_type": "code",
      "execution_count": null,
      "metadata": {
        "colab": {
          "base_uri": "https://localhost:8080/"
        },
        "id": "mX3ZckBg8tOW",
        "outputId": "d0df299f-11a5-4a60-a00c-265d30bdcbf3"
      },
      "outputs": [
        {
          "name": "stdout",
          "output_type": "stream",
          "text": [
            "True Positive(TP)  =  47\n",
            "False Positive(FP) =  3139\n",
            "True Negative(TN)  =  3964\n",
            "False Negative(FN) =  4\n",
            "Precision of the binary classifier = 0.922\n"
          ]
        }
      ],
      "source": [
        "# creating the confusion matrix for the SVM model, testing on real data\n",
        "\n",
        "# training a SVM model, without downsampling\n",
        "modelSVM = LinearSVC()\n",
        "modelSVM.fit(X_NoDS_Train_Scaled, Y_NoDS_Train)\n",
        "\n",
        "# making predictions on the real data\n",
        "predictions = modelSVM.predict(X_Test_True_Scaled)\n",
        "PredSynthSVM = modelSVM.predict(X_Test_Scaled)\n",
        "PredTrueSVM = modelSVM.predict(X_Test_True_Scaled)\n",
        "\n",
        "# creating the confusion matrix for the predictions\n",
        "cm = confusion_matrix(Y_Test_True, predictions)\n",
        "TN, FP, FN, TP = cm.ravel()\n",
        "\n",
        "# show the values\n",
        "print('True Positive(TP)  = ', TP)\n",
        "print('False Positive(FP) = ', FP)\n",
        "print('True Negative(TN)  = ', TN)\n",
        "print('False Negative(FN) = ', FN)\n",
        "\n",
        "precision = precision_score(predictions, Y_Test_True)\n",
        "print('Precision of the binary classifier = {:0.3f}'.format(precision))"
      ]
    },
    {
      "cell_type": "code",
      "execution_count": null,
      "metadata": {
        "colab": {
          "base_uri": "https://localhost:8080/"
        },
        "id": "t3IWWhqF6qmL",
        "outputId": "1cbeba1b-5996-4999-c429-9e8ef89c21e8"
      },
      "outputs": [
        {
          "name": "stdout",
          "output_type": "stream",
          "text": [
            "True Positive(TP)  =  2\n",
            "False Positive(FP) =  323\n",
            "True Negative(TN)  =  6780\n",
            "False Negative(FN) =  49\n",
            "Accuracy of the binary classifier = 0.948\n"
          ]
        }
      ],
      "source": [
        "# creating the confusion matrix for the Random Forerst model, testing on real data\n",
        "\n",
        "# training a Random Forest model, without downsampling\n",
        "modelRF = RandomForestClassifier()\n",
        "modelRF.fit(X_NoDS_Train_Scaled, Y_NoDS_Train)\n",
        "\n",
        "# making predictions on the real data\n",
        "predictions = modelRF.predict(X_Test_True_Scaled)\n",
        "PredSynthRF = modelRF.predict(X_Test_Scaled)\n",
        "\n",
        "# creating the confusion matrix for the predictions\n",
        "cm = confusion_matrix(Y_Test_True, predictions)\n",
        "TN, FP, FN, TP = cm.ravel()\n",
        "\n",
        "# show the values\n",
        "print('True Positive(TP)  = ', TP)\n",
        "print('False Positive(FP) = ', FP)\n",
        "print('True Negative(TN)  = ', TN)\n",
        "print('False Negative(FN) = ', FN)\n",
        "\n",
        "# the accuracy is the relevant metric for the Random Forest model\n",
        "accuracy = accuracy_score(predictions, Y_Test_True)\n",
        "print('Accuracy of the binary classifier = {:0.3f}'.format(accuracy))"
      ]
    },
    {
      "cell_type": "code",
      "execution_count": null,
      "metadata": {
        "id": "lcQnpzWWIppc"
      },
      "outputs": [],
      "source": [
        "modelNB = GaussianNB()\n",
        "modelNB.fit(X_NoDS_Train_Scaled, Y_NoDS_Train)\n",
        "PredTrueNB = modelNB.predict(X_Test_True_Scaled)"
      ]
    },
    {
      "cell_type": "code",
      "execution_count": null,
      "metadata": {
        "colab": {
          "base_uri": "https://localhost:8080/"
        },
        "id": "fCvWpoKqDKor",
        "outputId": "6b64b3bc-8e5b-4299-b181-9b216252ebff"
      },
      "outputs": [
        {
          "data": {
            "text/plain": [
              "array([[9.99999999e-01, 8.25238945e-10],\n",
              "       [2.59362174e-03, 9.97406378e-01],\n",
              "       [2.70706198e-05, 9.99972929e-01],\n",
              "       ...,\n",
              "       [9.87748883e-01, 1.22511172e-02],\n",
              "       [9.99999287e-01, 7.12767307e-07],\n",
              "       [8.58859511e-06, 9.99991411e-01]])"
            ]
          },
          "execution_count": 33,
          "metadata": {},
          "output_type": "execute_result"
        }
      ],
      "source": [
        "# the SVM model doesn't calculate the probability of a data point to belong to a class, it just adjusts\n",
        "# the best hyperplane that linearly sepparates the classes. So, in order to get the probability that a \n",
        "# star is considered a Be star or not, it is needed to use a calibration technique\n",
        "\n",
        "CLF = CalibratedClassifierCV(modelSVM, method = 'sigmoid', cv = 'prefit')\n",
        "CLF.fit(X_NoDS_Train_Scaled, Y_NoDS_Train)\n",
        "candidate_prob = CLF.predict_proba(X_Test_True_Scaled)\n",
        "\n",
        "# calculates the probability of a star having a disk or not\n",
        "# the first column is the chance it is a Be, the second is the chance it is not\n",
        "candidate_prob"
      ]
    },
    {
      "cell_type": "code",
      "execution_count": null,
      "metadata": {
        "id": "YpYH3XvfFGDz"
      },
      "outputs": [],
      "source": [
        "# defining a variable to help us calculate\n",
        "\n",
        "chance_de_ser_be = candidate_prob[:, 1]\n",
        "NormPred = np.zeros_like(chance_de_ser_be)\n",
        "\n",
        "# defining an arbitrary cut off value\n",
        "for i in range(len(chance_de_ser_be)):\n",
        "  if chance_de_ser_be[i] > 0.999:\n",
        "    NormPred[i] = 1"
      ]
    },
    {
      "cell_type": "code",
      "execution_count": null,
      "metadata": {
        "colab": {
          "base_uri": "https://localhost:8080/"
        },
        "id": "jx4W7yOcG-bp",
        "outputId": "5b87821c-a5d7-4c4c-8051-e5c65f864d1f"
      },
      "outputs": [
        {
          "name": "stdout",
          "output_type": "stream",
          "text": [
            "Be Confirmada  =  43\n",
            "Previsões Erradas =  8\n",
            "Candidatas =  1715\n",
            "Não deve ser Be  =  5388\n",
            "Accuracy of the binary classifier = 0.759\n",
            "Precision of the binary classifier = 0.843\n"
          ]
        }
      ],
      "source": [
        "# re-calculating the confusion matrix with the new cut off value\n",
        "\n",
        "cm = confusion_matrix(Y_Test_True, NormPred)\n",
        "TN, FP, FN, TP = cm.ravel()\n",
        "\n",
        "# show values\n",
        "print('Be Confirmada  = ', TP)\n",
        "print('Previsões Erradas = ', FN)\n",
        "print('Candidatas = ', FP)\n",
        "print('Não deve ser Be  = ', TN)\n",
        "\n",
        "accuracy = accuracy_score(NormPred, Y_Test_True)\n",
        "precision = precision_score(NormPred, Y_Test_True)\n",
        "print('Accuracy of the binary classifier = {:0.3f}'.format(accuracy))\n",
        "print('Precision of the binary classifier = {:0.3f}'.format(precision))"
      ]
    },
    {
      "cell_type": "code",
      "execution_count": null,
      "metadata": {
        "colab": {
          "base_uri": "https://localhost:8080/",
          "height": 696
        },
        "id": "0AXLZFI-Amxo",
        "outputId": "3aa7d19d-4a2f-4afc-9a23-b6f1cfbacea4"
      },
      "outputs": [
        {
          "name": "stdout",
          "output_type": "stream",
          "text": [
            "Feature: 0, Score: 0.39700\n",
            "Standard deviation:  0.00255\n",
            "Feature: 1, Score: 0.39427\n",
            "Standard deviation:  0.00336\n",
            "Feature: 2, Score: 0.01214\n",
            "Standard deviation:  0.00108\n",
            "Feature: 3, Score: 0.76351\n",
            "Standard deviation:  0.00261\n",
            "Feature: 4, Score: 0.44087\n",
            "Standard deviation:  0.00294\n",
            "Feature: 5, Score: 0.25784\n",
            "Standard deviation:  0.00279\n",
            "Feature: 6, Score: 0.74914\n",
            "Standard deviation:  0.00238\n",
            "Feature: 7, Score: 0.32952\n",
            "Standard deviation:  0.00291\n",
            "Feature: 8, Score: 0.00008\n",
            "Standard deviation:  8e-05\n",
            "Feature: 9, Score: 0.40080\n",
            "Standard deviation:  0.00328\n",
            "Feature: 10, Score: 0.77676\n",
            "Standard deviation:  0.00263\n",
            "Feature: 11, Score: 0.77578\n",
            "Standard deviation:  0.00261\n"
          ]
        },
        {
          "data": {
            "image/png": "[encoded data removed]",
            "text/plain": [
              "<Figure size 432x288 with 1 Axes>"
            ]
          },
          "metadata": {
            "needs_background": "light"
          },
          "output_type": "display_data"
        }
      ],
      "source": [
        "# calculating the PFI (Permutation Feature Importance) for the SVM model, no downsampling, testing on synthetic data\n",
        "results = permutation_importance(modelSVM, X_Test_Scaled, Y_Test, scoring = 'precision', n_repeats = 15, random_state = 42)\n",
        "\n",
        "# getting the average and standard deviation for the importance\n",
        "importance = results.importances_mean\n",
        "sd = results.importances_std\n",
        "\n",
        "# showing results\n",
        "for i,v in enumerate(importance):\n",
        "  print('Feature: %0d, Score: %.5f' % (i,v))\n",
        "  print('Standard deviation: ', round(sd[i], 5))\n",
        "\n",
        "# visually representing the results\n",
        "plt.bar([x for x in range(len(importance))], importance)\n",
        "plt.ylabel('Importance')\n",
        "plt.xlabel('Feature')\n",
        "plt.show()"
      ]
    },
    {
      "cell_type": "code",
      "execution_count": null,
      "metadata": {
        "colab": {
          "base_uri": "https://localhost:8080/",
          "height": 696
        },
        "id": "YdeFH6w-9fb_",
        "outputId": "7ce567d8-7dda-4c3a-f902-e8e086e9f3bd"
      },
      "outputs": [
        {
          "name": "stdout",
          "output_type": "stream",
          "text": [
            "Feature: 0, Score: 0.00090\n",
            "Standard deviation:  0.00047\n",
            "Feature: 1, Score: 0.00111\n",
            "Standard deviation:  0.00052\n",
            "Feature: 2, Score: -0.00009\n",
            "Standard deviation:  0.00023\n",
            "Feature: 3, Score: 0.01130\n",
            "Standard deviation:  0.00074\n",
            "Feature: 4, Score: 0.00240\n",
            "Standard deviation:  0.00069\n",
            "Feature: 5, Score: 0.00068\n",
            "Standard deviation:  0.00047\n",
            "Feature: 6, Score: 0.01212\n",
            "Standard deviation:  0.00093\n",
            "Feature: 7, Score: 0.00046\n",
            "Standard deviation:  0.00037\n",
            "Feature: 8, Score: 0.00015\n",
            "Standard deviation:  0.00023\n",
            "Feature: 9, Score: 0.00123\n",
            "Standard deviation:  0.00057\n",
            "Feature: 10, Score: 0.01259\n",
            "Standard deviation:  0.00084\n",
            "Feature: 11, Score: 0.01182\n",
            "Standard deviation:  0.00086\n"
          ]
        },
        {
          "data": {
            "image/png": "[encoded data removed]",
            "text/plain": [
              "<Figure size 432x288 with 1 Axes>"
            ]
          },
          "metadata": {
            "needs_background": "light"
          },
          "output_type": "display_data"
        }
      ],
      "source": [
        "# calculating the PFI (Permutation Feature Importance) for the SVM model, no downsampling, testing on real data\n",
        "results = permutation_importance(modelSVM, X_Test_True_Scaled, Y_Test_True, scoring = 'precision', n_repeats = 15, random_state = 42)\n",
        "\n",
        "# getting the average and standard deviation for the importance\n",
        "importance = results.importances_mean\n",
        "sd = results.importances_std\n",
        "\n",
        "# showing results\n",
        "for i,v in enumerate(importance):\n",
        "  print('Feature: %0d, Score: %.5f' % (i,v))\n",
        "  print('Standard deviation: ', round(sd[i], 5))\n",
        "\n",
        "# visually representing the results\n",
        "plt.bar([x for x in range(len(importance))], importance)\n",
        "plt.ylabel('Importance')\n",
        "plt.xlabel('Feature')\n",
        "plt.show()"
      ]
    },
    {
      "cell_type": "code",
      "execution_count": null,
      "metadata": {
        "id": "49fVdpmcAvoZ"
      },
      "outputs": [],
      "source": [
        "# creating a dataframe out of the most important features on the test with real data\n",
        "I_Test_True = X_Test_True[:, 3]\n",
        "R_Test_True = X_Test_True[:, 2]\n",
        "U_Test_True = X_Test_True[:, 0]\n",
        "J395_Test_True = X_Test_True[:, 6]\n",
        "J660_Test_True = X_Test_True[:, 10]\n",
        "J861_Test_True = X_Test_True[:, 11]\n",
        "Y_Pred_True = modelSVM.predict(X_Test_True_Scaled) # Dados previstos para comparar\n",
        "\n",
        "important_features_df = pd.DataFrame(dict(U = U_Test_True, R = R_Test_True, I = I_Test_True, J395 = J395_Test_True, J660 = J660_Test_True, J861 = J861_Test_True, TrueBe = Y_Test_True, PredBe = Y_Pred_True, NormPred = NormPred))\n",
        "important_features_df.to_csv('important_features.csv', index=False)"
      ]
    },
    {
      "cell_type": "code",
      "execution_count": null,
      "metadata": {
        "colab": {
          "base_uri": "https://localhost:8080/",
          "height": 279
        },
        "id": "NaEYXJpuBxmy",
        "outputId": "a6e11915-3b04-48f9-d5bd-57844fcb49d9"
      },
      "outputs": [
        {
          "data": {
            "image/png": "[encoded data removed]",
            "text/plain": [
              "<Figure size 432x288 with 1 Axes>"
            ]
          },
          "metadata": {
            "needs_background": "light"
          },
          "output_type": "display_data"
        }
      ],
      "source": [
        "# creating a diagram to show the stars thought to be Be\n",
        "fig, ax = plt.subplots()\n",
        "colors = {0:'red', 1:'green'} # red are Be, green are not\n",
        "ax.scatter(important_features_df['J660'], important_features_df['J861'], c=important_features_df['PredBe'].map(colors), s=0.2)\n",
        "ax.grid(True)\n",
        "plt.xlabel(\"J660\")\n",
        "plt.ylabel(\"J861\")\n",
        "plt.savefig('J660xJ861.pdf')\n",
        "plt.show()"
      ]
    },
    {
      "cell_type": "code",
      "execution_count": null,
      "metadata": {
        "colab": {
          "base_uri": "https://localhost:8080/",
          "height": 279
        },
        "id": "Pn3IELUgC1pc",
        "outputId": "146ccc8c-c9ca-4403-9cb9-a0df3c2d569b"
      },
      "outputs": [
        {
          "data": {
            "image/png": "[encoded data removed]",
            "text/plain": [
              "<Figure size 432x288 with 1 Axes>"
            ]
          },
          "metadata": {
            "needs_background": "light"
          },
          "output_type": "display_data"
        }
      ],
      "source": [
        "# creating a diagram to show the stars thought to be Be\n",
        "fig, ax = plt.subplots()\n",
        "colors = {0:'red', 1:'green'} # red are Be, green are not\n",
        "ax.scatter(important_features_df['I'], important_features_df['J395'], c=important_features_df['PredBe'].map(colors), s=0.2)\n",
        "ax.grid(True)\n",
        "plt.xlabel(\"I\")\n",
        "plt.ylabel(\"J395\")\n",
        "plt.savefig('IxJ395.pdf')\n",
        "plt.show()"
      ]
    },
    {
      "cell_type": "code",
      "execution_count": null,
      "metadata": {
        "colab": {
          "base_uri": "https://localhost:8080/",
          "height": 279
        },
        "id": "Q66m3NksGDXC",
        "outputId": "942023c1-2e1f-49bd-d4d7-fb1bc843f487"
      },
      "outputs": [
        {
          "data": {
            "image/png": "[encoded data removed]",
            "text/plain": [
              "<Figure size 432x288 with 1 Axes>"
            ]
          },
          "metadata": {
            "needs_background": "light"
          },
          "output_type": "display_data"
        }
      ],
      "source": [
        "# creating a diagram to show the stars thought to be Be\n",
        "fig, ax = plt.subplots()\n",
        "colors = {0:'red', 1:'green'} # red are Be, green are not\n",
        "ax.scatter(important_features_df['I'], important_features_df['J395'], c=important_features_df['NormPred'].map(colors), s=0.2)\n",
        "ax.grid(True)\n",
        "plt.xlabel(\"I\")\n",
        "plt.ylabel(\"J395\")\n",
        "plt.savefig('restrictiveIxJ395.pdf')\n",
        "plt.show()"
      ]
    },
    {
      "cell_type": "code",
      "execution_count": null,
      "metadata": {
        "id": "uclBdI8qGqEW"
      },
      "outputs": [],
      "source": [
        "DF_Synth = pd.DataFrame(dict(U = X_Test[:, 0],\n",
        "                             G = X_Test[:, 1],\n",
        "                             R = X_Test[:, 2],\n",
        "                             I = X_Test[:, 3],\n",
        "                             Z = X_Test[:, 4],\n",
        "                             J378 = X_Test[:, 5],\n",
        "                             J395 = X_Test[:, 6],\n",
        "                             J410 = X_Test[:, 7],\n",
        "                             J430 = X_Test[:, 8],\n",
        "                             J515 = X_Test[:, 9],\n",
        "                             J660 = X_Test[:, 10],\n",
        "                             J861 = X_Test[:, 11],\n",
        "                             Be = Y_Test,\n",
        "                             PredSVM = PredSynthSVM,\n",
        "                             PredRF = PredSynthRF))\n",
        "DF_Synth.to_csv('df_synth.csv', index=False)"
      ]
    },
    {
      "cell_type": "code",
      "execution_count": null,
      "metadata": {
        "id": "O71bAofALW4E"
      },
      "outputs": [],
      "source": [
        "DF_True = pd.DataFrame(dict(U = X_Test_True[:, 0],\n",
        "                            G = X_Test_True[:, 1],\n",
        "                            R = X_Test_True[:, 2],\n",
        "                            I = X_Test_True[:, 3],\n",
        "                            Z = X_Test_True[:, 4],\n",
        "                            J378 = X_Test_True[:, 5],\n",
        "                            J395 = X_Test_True[:, 6],\n",
        "                            J410 = X_Test_True[:, 7],\n",
        "                            J430 = X_Test_True[:, 8],\n",
        "                            J515 = X_Test_True[:, 9],\n",
        "                            J660 = X_Test_True[:, 10],\n",
        "                            J861 = X_Test_True[:, 11],\n",
        "                            Be = Y_Test_True,\n",
        "                            PredSVM = PredTrueSVM,\n",
        "                            PredSVMCalib = NormPred,\n",
        "                            PredNB = PredTrueNB))\n",
        "DF_True.to_csv('df_true.csv', index=False)"
      ]
    }
  ],
  "metadata": {
    "colab": {
      "provenance": []
    },
    "kernelspec": {
      "display_name": "Python 3",
      "name": "python3"
    },
    "language_info": {
      "name": "python"
    }
  },
  "nbformat": 4,
  "nbformat_minor": 0
}
